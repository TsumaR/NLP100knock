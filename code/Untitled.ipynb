{
 "cells": [
  {
   "cell_type": "markdown",
   "metadata": {},
   "source": [
    "# 言語処理100本ノック 2020年\n",
    "\n",
    "[言語処理100本ノック2020版](https://nlp100.github.io/ja/)が公開されたのでこの機会に解いていく，の第三章。\n",
    "\n",
    "* 第一章：準備運動は[ここ](https://qiita.com/TsumaR/items/15e68af5179ba47f1d40)\n",
    "* ソースコードは[GitHub](https://github.com/TsumaR/NLP100knock)上にまとめている。\n",
    "\n",
    "## 第3章：正規表現\n",
    "\n",
    "> Wikipediaの記事を以下のフォーマットで書き出したファイル[jawiki-country.json.gz](https://nlp100.github.io/data/jawiki-country.json.gz)がある.  \n",
    "・1行に1記事の情報がJSON形式で格納される  \n",
    "・各行には記事名が”title”キーに，記事本文が”text”キーの辞書オブジェクトに格納され，そのオブジェクトがJSON形式で書き出される  \n",
    "・ファイル全体はgzipで圧縮される  \n",
    "以下の処理を行うプログラムを作成せよ．\n",
    "\n",
    "### 20. JSONデータの読み込み\n",
    "\n",
    "> Wikipedia記事のJSONファイルを読み込み，「イギリス」に関する記事本文を表示せよ．問題21-29では，ここで抽出した記事本文に対して実行せよ．"
   ]
  },
  {
   "cell_type": "code",
   "execution_count": null,
   "metadata": {},
   "outputs": [],
   "source": []
  },
  {
   "cell_type": "code",
   "execution_count": null,
   "metadata": {},
   "outputs": [],
   "source": []
  },
  {
   "cell_type": "code",
   "execution_count": null,
   "metadata": {},
   "outputs": [],
   "source": []
  },
  {
   "cell_type": "markdown",
   "metadata": {},
   "source": [
    "Pythonの処理について勉強したい人は，[@suzu6](https://www.suzu6.net/posts/29/)さんのホームページや，[素人の言語処理](https://qiita.com/segavvy/items/fb50ba8097d59475f760)記事参照。"
   ]
  }
 ],
 "metadata": {
  "kernelspec": {
   "display_name": "Python 3",
   "language": "python",
   "name": "python3"
  },
  "language_info": {
   "codemirror_mode": {
    "name": "ipython",
    "version": 3
   },
   "file_extension": ".py",
   "mimetype": "text/x-python",
   "name": "python",
   "nbconvert_exporter": "python",
   "pygments_lexer": "ipython3",
   "version": "3.6.9"
  }
 },
 "nbformat": 4,
 "nbformat_minor": 2
}
