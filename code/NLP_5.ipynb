{
 "cells": [
  {
   "cell_type": "markdown",
   "metadata": {},
   "source": [
    "# 言語処理100本ノック 2020年\n",
    "\n",
    "[言語処理100本ノック2020版](https://nlp100.github.io/ja/)が公開されたのでこの機会に解いていく。\n",
    "[GitHub](https://github.com/TsumaR/NLP100knock)に公開しているJupyterをmarkdown出力したものなので，一度読み込んだパッケージはその後に読み込んでいないことに注意。\n",
    "\n",
    "## 第五章: 係り受け解析\n",
    "\n",
    "> 夏目漱石の小説『吾輩は猫である』の文章（[neko.txt](https://nlp100.github.io/data/neko.txt)）をCaboChaを使って係り受け解析し，その結果をneko.txt.cabochaというファイルに保存せよ．このファイルを用いて，以下の問に対応するプログラムを実装せよ．\n",
    "\n",
    "四章で行った形態素解析は，文章を最小単位(形態素)に分解することだった。\n",
    "係り受け解析は，構文解析の一種で，要素間の修飾関係を調べる技術。\n",
    "\n",
    "### CaboChaとは\n",
    "\n",
    "> [CaboCha](http://taku910.github.io/cabocha) は, Support Vector Machines に基づく日本語係り受け解析器です。\n",
    " SVM の分類アルゴリズムの高速化手法である PKE (ACL 2003 にて発表)を適用.\n",
    " \n",
    " [チャンキングの段階適用による日本語係り受け解析](http://kanji.zinbun.kyoto-u.ac.jp/db-machine/~yasuoka/kyodokenkyu/2008-12-02/001.pdf)のタイトルで2002に情報処理学会へ報告されている。\n",
    "\n",
    "#### CRFについて\n",
    "\n",
    "「識別モデル」であり、「構造学習」をしていることが特徴のうちの一つ。\n",
    "昔の記事だが[CRFがよくわからなくてお腹が痛くなってしまう人のための30分でわかるCRFのはなし](https://echizen-tm.hatenadiary.org/entry/20111206/1323180144)が基礎の基礎である概要の理解には良さそう。もう少し細かく理解するには[この記事がよかった。](https://mieruca-ai.com/ai/conditional-random-fields/)また，さらに数式的な内容は[このスライド](https://www.slideshare.net/uchumik/crf-8416551)が非常にわかりやすかった。\n",
    "\n",
    "> 条件付き確率場（じょうけんつきかくりつば、英語: Conditional random field、略称: CRF）は無向グラフにより表現される確率的グラフィカルモデルの一つであり、識別モデルである。(Wikipedia)\n",
    "\n",
    "また，CRFは特徴的に訓練されたマルコフ確率場(マルコフ性のある確率変数の集合)である。(マルコフ確率場は無向グラフである。)そのため，一つ隣の要素の影響のみを受ける。\n",
    "\n",
    "入力系列Oが得られた時に，Sである条件付確率を求める。λが重みである。\n",
    "\n",
    "$$\n",
    "P({\\bf S}|{\\bf O})=\\frac{1}{Z_o} \\exp \\left(\\sum_{t=1}^{T} \\sum_{k=1}^K \\lambda_k f_k(s_{t-1},s_t,{\\bf o},t)\\right) \n",
    "$$\n",
    "\n",
    "$$\n",
    "Z_o=\\sum_{s \\in {\\bf S}} \\exp \\left(\\sum_{t=1}^{T} \\sum_{k=1}^K \\lambda_k f_k(s_{t-1},s_t,{\\bf o},t)\\right)\n",
    "$$\n",
    "\n"
   ]
  }
 ],
 "metadata": {
  "kernelspec": {
   "display_name": "Python 3",
   "language": "python",
   "name": "python3"
  },
  "language_info": {
   "codemirror_mode": {
    "name": "ipython",
    "version": 3
   },
   "file_extension": ".py",
   "mimetype": "text/x-python",
   "name": "python",
   "nbconvert_exporter": "python",
   "pygments_lexer": "ipython3",
   "version": "3.6.9"
  }
 },
 "nbformat": 4,
 "nbformat_minor": 2
}
