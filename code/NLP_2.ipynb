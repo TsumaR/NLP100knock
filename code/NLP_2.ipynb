{
 "cells": [
  {
   "cell_type": "markdown",
   "metadata": {},
   "source": [
    "# 言語処理100本ノック 2020年\n",
    "\n",
    "## 第2章：UNIXコマンド\n",
    "\n",
    "[言語処理100本ノック2020版](https://nlp100.github.io/ja/)が公開されたのでこの機会に解いていく，の第二章。Pythonでの実行は省略している。\n",
    "Pythonの処理について勉強したい人は，[@suzu6](https://www.suzu6.net/posts/29/)さんのホームページや，[素人の言語処理](https://qiita.com/segavvy/items/fb50ba8097d59475f760)記事参照。\n",
    "\n",
    "* 第一章：準備運動は[ここ](https://qiita.com/TsumaR/items/15e68af5179ba47f1d40)\n",
    "* ソースコードは[GitHub](https://github.com/TsumaR/NLP100knock)上にまとめている。\n",
    "\n",
    "> [popular-names.txt](https://nlp100.github.io/data/popular-names.txt)は，アメリカで生まれた赤ちゃんの「名前」「性別」「人数」「年」をタブ区切り形式で格納したファイルである．以下の処理を行うプログラムを作成し，popular-names.txtを入力ファイルとして実行せよ．さらに，同様の処理をUNIXコマンドでも実行し，プログラムの実行結果を確認せよ．\n",
    "\n",
    "### 下準備\n",
    "\n",
    "[popular-names.txt](https://nlp100.github.io/data/popular-names.txt)を自分の環境にダウンロードする必要がある。テーマがUNIXコマンドということで，せっかくなのでコマンドでダウンロードした。\n",
    "\n",
    "今後の操作性のためにリンクも作成しておく"
   ]
  },
  {
   "cell_type": "code",
   "execution_count": 5,
   "metadata": {},
   "outputs": [
    {
     "name": "stdout",
     "output_type": "stream",
     "text": [
      "  % Total    % Received % Xferd  Average Speed   Time    Time     Time  Current\n",
      "                                 Dload  Upload   Total   Spent    Left  Speed\n",
      "100 55026  100 55026    0     0   266k      0 --:--:-- --:--:-- --:--:--  266k\n"
     ]
    }
   ],
   "source": [
    "curl https://nlp100.github.io/data/popular-names.txt > ../data/popular-names.txt\n",
    "\n",
    "# シンボリックリンクの作成\n",
    "ln -s ../data/popular-names.txt target"
   ]
  },
  {
   "cell_type": "markdown",
   "metadata": {},
   "source": [
    "### 10. 行数のカウント\n",
    "\n",
    "> 行数をカウントせよ．確認にはwcコマンドを用いよ．"
   ]
  },
  {
   "cell_type": "code",
   "execution_count": 7,
   "metadata": {},
   "outputs": [
    {
     "name": "stdout",
     "output_type": "stream",
     "text": [
      "    2780 target\n"
     ]
    }
   ],
   "source": [
    "wc -l target"
   ]
  },
  {
   "cell_type": "markdown",
   "metadata": {},
   "source": [
    "### 11. タブをスペースに置換\n",
    "\n",
    "> タブ1文字につきスペース1文字に置換せよ．確認にはsedコマンド，trコマンド，もしくはexpandコマンドを用いよ．"
   ]
  },
  {
   "cell_type": "code",
   "execution_count": 22,
   "metadata": {},
   "outputs": [
    {
     "name": "stdout",
     "output_type": "stream",
     "text": [
      "Mary\tF\t7065\t1880\n",
      "Anna\tF\t2604\t1880\n",
      "Emma\tF\t2003\t1880\n",
      "Elizabesh\tF\t1939\t1880\n",
      "Minnie\tF\t1746\t1880\n"
     ]
    }
   ],
   "source": [
    "sed 's/\\t/\\s/g' target | head -n 5"
   ]
  },
  {
   "cell_type": "markdown",
   "metadata": {},
   "source": [
    "上でできるはずだが置換できていない。macだと`\\t`でタブを解釈しないらしい，普段mac上で操作することはあまりないので混乱した。また，`\\s`も認識しなかった。\n",
    "[この記事](https://qiita.com/kohashi/items/73708dea71a3ac233b29)などを参考に下記のスクリプトでうまくいった。"
   ]
  },
  {
   "cell_type": "code",
   "execution_count": 23,
   "metadata": {},
   "outputs": [
    {
     "name": "stdout",
     "output_type": "stream",
     "text": [
      "Mary F 7065 1880\n",
      "Anna F 2604 1880\n",
      "Emma F 2003 1880\n",
      "Elizabeth F 1939 1880\n",
      "Minnie F 1746 1880\n"
     ]
    }
   ],
   "source": [
    "sed 's/[[:cntrl:]]/ /g' target | head -n 5"
   ]
  },
  {
   "cell_type": "markdown",
   "metadata": {},
   "source": [
    "### 12. 1列目をcol1.txtに，2列目をcol2.txtに保存\n",
    "\n",
    "> 各行の1列目だけを抜き出したものをcol1.txtに，2列目だけを抜き出したものをcol2.txtとしてファイルに保存せよ．確認にはcutコマンドを用いよ．"
   ]
  },
  {
   "cell_type": "code",
   "execution_count": 24,
   "metadata": {},
   "outputs": [
    {
     "name": "stdout",
     "output_type": "stream",
     "text": [
      "Mary\n",
      "Anna\n",
      "Emma\n",
      "Elizabeth\n",
      "Minnie\n"
     ]
    }
   ],
   "source": [
    "cut -f1 target > ../data/col1.txt\n",
    "cut -f2 target > ../data/col2.txt\n",
    "\n",
    "head -n 5 ../data/col1.txt"
   ]
  },
  {
   "cell_type": "markdown",
   "metadata": {},
   "source": [
    "### 13. col1.txtとcol2.txtをマージ\n",
    "\n",
    "> 12で作ったcol1.txtとcol2.txtを結合し，元のファイルの1列目と2列目をタブ区切りで並べたテキストファイルを作成せよ．確認にはpasteコマンドを用いよ．\n",
    "\n",
    "`paste`の列方向結合のデフォルトはタブ文字なので，`-d`オプションでで指定する必要がない。"
   ]
  },
  {
   "cell_type": "code",
   "execution_count": 26,
   "metadata": {},
   "outputs": [
    {
     "name": "stdout",
     "output_type": "stream",
     "text": [
      "Mary\tF\n",
      "Anna\tF\n",
      "Emma\tF\n",
      "Elizabeth\tF\n",
      "Minnie\tF\n"
     ]
    }
   ],
   "source": [
    "paste ../data/col1.txt ../data/col2.txt > ../data/merged_col.txt\n",
    "head -n 5 ../data/merged_col.txt "
   ]
  },
  {
   "cell_type": "markdown",
   "metadata": {},
   "source": [
    "### 14. 先頭からN行を出力\n"
   ]
  }
 ],
 "metadata": {
  "kernelspec": {
   "display_name": "Bash",
   "language": "bash",
   "name": "bash"
  },
  "language_info": {
   "codemirror_mode": "shell",
   "file_extension": ".sh",
   "mimetype": "text/x-sh",
   "name": "bash"
  }
 },
 "nbformat": 4,
 "nbformat_minor": 2
}
