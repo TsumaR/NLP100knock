{
 "cells": [
  {
   "cell_type": "markdown",
   "metadata": {},
   "source": [
    "# 言語処理100本ノック 2020年\n",
    "\n",
    "[言語処理100本ノック2020版](https://nlp100.github.io/ja/)が公開されたのでこの機会に解いていく。\n",
    "[GitHub](https://github.com/TsumaR/NLP100knock)に公開しているJupyterをmarkdown出力したものなので，一度読み込んだパッケージはその後に読み込んでいないことに注意。\n",
    "\n",
    "## 第五章: 係り受け解析\n",
    "\n",
    "> 夏目漱石の小説『吾輩は猫である』の文章（[neko.txt](https://nlp100.github.io/data/neko.txt)）をCaboChaを使って係り受け解析し，その結果をneko.txt.cabochaというファイルに保存せよ．このファイルを用いて，以下の問に対応するプログラムを実装せよ．\n",
    "\n",
    "四章で行った形態素解析では，文章を最小単位(形態素)に分解し，ラベリングした。\n",
    "今回行う係り受け解析は，構文解析の一種で，要素間の修飾関係を調べる技術である。\n",
    "\n",
    "### CaboChaとは\n",
    "\n",
    "> [CaboCha](http://taku910.github.io/cabocha) は, Support Vector Machines に基づく日本語係り受け解析器です。\n",
    " SVM の分類アルゴリズムの高速化手法である PKE (ACL 2003 にて発表)を適用.\n",
    " \n",
    " [チャンキングの段階適用による日本語係り受け解析](http://kanji.zinbun.kyoto-u.ac.jp/db-machine/~yasuoka/kyodokenkyu/2008-12-02/001.pdf)のタイトルで2002に情報処理学会へ報告されている。\n",
    "\n",
    "アブストラクト\n",
    "\n",
    "> "
   ]
  }
 ],
 "metadata": {
  "kernelspec": {
   "display_name": "Python 3",
   "language": "python",
   "name": "python3"
  },
  "language_info": {
   "codemirror_mode": {
    "name": "ipython",
    "version": 3
   },
   "file_extension": ".py",
   "mimetype": "text/x-python",
   "name": "python",
   "nbconvert_exporter": "python",
   "pygments_lexer": "ipython3",
   "version": "3.6.9"
  }
 },
 "nbformat": 4,
 "nbformat_minor": 2
}
