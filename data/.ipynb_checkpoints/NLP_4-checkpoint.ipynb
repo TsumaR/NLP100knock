{
 "cells": [
  {
   "cell_type": "markdown",
   "metadata": {},
   "source": [
    "# 言語処理100本ノック 2020年\n",
    "\n",
    "[言語処理100本ノック2020版](https://nlp100.github.io/ja/)が公開されたのでこの機会に解いていく。\n",
    "GitHubに公開しているJupyterをmarkdown出力したものなので，一度読み込んだパッケージはその後に読み込んでいないことに注意。\n",
    "\n",
    "## 第4章: 形態素解析\n",
    "\n",
    "> 夏目漱石の小説『吾輩は猫である』の文章（[neko.txt](https://nlp100.github.io/data/neko.txt)）をMeCabを使って形態素解析し，その結果をneko.txt.mecabというファイルに保存せよ．このファイルを用いて，以下の問に対応するプログラムを実装せよ．\n",
    "なお，問題37, 38, 39はmatplotlibもしくは[Gnuplot](http://www.gnuplot.info/)を用いるとよい．\n",
    "\n",
    "形態素解析とは[Wikipedia](https://ja.wikipedia.org/wiki/%E5%BD%A2%E6%85%8B%E7%B4%A0%E8%A7%A3%E6%9E%90)より，\n",
    "\n",
    "> 形態素解析（けいたいそかいせき、Morphological Analysis）とは、文法的な情報の注記の無い自然言語のテキストデータ（文）から、対象言語の文法や、辞書と呼ばれる単語の品詞等の情報にもとづき、形態素（Morpheme, おおまかにいえば、言語で意味を持つ最小単位）の列に分割し、それぞれの形態素の品詞等を判別する作業である。\n",
    "\n",
    "### 前処理\n",
    "\n",
    "問題を解き始める前に，`matplotlib`のimportと，MeCabによる形態素解析まで行っておく。MeCabは`Homebrew`でインストールしたものを使用している。\n",
    "\n",
    "```sh\n",
    "mecab < ../data/neko.txt > ../data/neko.txt.mecab\n",
    "```"
   ]
  },
  {
   "cell_type": "code",
   "execution_count": 123,
   "metadata": {},
   "outputs": [],
   "source": [
    "import matplotlib.pyplot as plt"
   ]
  },
  {
   "cell_type": "markdown",
   "metadata": {},
   "source": [
    "### 30. 形態素解析結果の読み込み\n",
    "\n",
    "> 形態素解析結果（neko.txt.mecab）を読み込むプログラムを実装せよ．ただし，各形態素は表層形（surface），基本形（base），品詞（pos），品詞細分類1（pos1）をキーとするマッピング型に格納し，1文を形態素（マッピング型）のリストとして表現せよ．第4章の残りの問題では，ここで作ったプログラムを活用せよ．\n",
    "\n",
    "各形態素が格納されるマッピング型は`{'surface': 'で', 'base': 'だ', 'pos': '助動詞', 'pos1': '*'}`のような形。"
   ]
  },
  {
   "cell_type": "code",
   "execution_count": 124,
   "metadata": {},
   "outputs": [
    {
     "name": "stdout",
     "output_type": "stream",
     "text": [
      "[[{'surface': '一', 'base': '一', 'pos': '名詞', 'pos1': '数'}], [{'surface': '\\u3000', 'base': '\\u3000', 'pos': '記号', 'pos1': '空白'}, {'surface': '吾輩', 'base': '吾輩', 'pos': '名詞', 'pos1': '代名詞'}, {'surface': 'は', 'base': 'は', 'pos': '助詞', 'pos1': '係助詞'}, {'surface': '猫', 'base': '猫', 'pos': '名詞', 'pos1': '一般'}, {'surface': 'で', 'base': 'だ', 'pos': '助動詞', 'pos1': '*'}, {'surface': 'ある', 'base': 'ある', 'pos': '助動詞', 'pos1': '*'}, {'surface': '。', 'base': '。', 'pos': '記号', 'pos1': '句点'}], [{'surface': '名前', 'base': '名前', 'pos': '名詞', 'pos1': '一般'}, {'surface': 'は', 'base': 'は', 'pos': '助詞', 'pos1': '係助詞'}, {'surface': 'まだ', 'base': 'まだ', 'pos': '副詞', 'pos1': '助詞類接続'}, {'surface': '無い', 'base': '無い', 'pos': '形容詞', 'pos1': '自立'}, {'surface': '。', 'base': '。', 'pos': '記号', 'pos1': '句点'}], [{'surface': '\\u3000', 'base': '\\u3000', 'pos': '記号', 'pos1': '空白'}, {'surface': 'どこ', 'base': 'どこ', 'pos': '名詞', 'pos1': '代名詞'}, {'surface': 'で', 'base': 'で', 'pos': '助詞', 'pos1': '格助詞'}, {'surface': '生れ', 'base': '生れる', 'pos': '動詞', 'pos1': '自立'}, {'surface': 'た', 'base': 'た', 'pos': '助動詞', 'pos1': '*'}, {'surface': 'か', 'base': 'か', 'pos': '助詞', 'pos1': '副助詞／並立助詞／終助詞'}, {'surface': 'とんと', 'base': 'とんと', 'pos': '副詞', 'pos1': '一般'}, {'surface': '見当', 'base': '見当', 'pos': '名詞', 'pos1': 'サ変接続'}, {'surface': 'が', 'base': 'が', 'pos': '助詞', 'pos1': '格助詞'}, {'surface': 'つか', 'base': 'つく', 'pos': '動詞', 'pos1': '自立'}, {'surface': 'ぬ', 'base': 'ぬ', 'pos': '助動詞', 'pos1': '*'}, {'surface': '。', 'base': '。', 'pos': '記号', 'pos1': '句点'}]]\n"
     ]
    }
   ],
   "source": [
    "fname = '../data/neko.txt.mecab'\n",
    "\n",
    "def read_mecab(fname):\n",
    "    with open(fname, mode='rt', encoding='utf-8') as f:\n",
    "        # EOS除去除去しながら，一文ずつリスト収納\n",
    "        sentence_list = f.read().split('EOS\\n')\n",
    "        sentence_list = list(filter(lambda x: x != '', sentence_list))\n",
    "    result_list = []\n",
    "    for sentence in sentence_list:\n",
    "        morpheme_list = []\n",
    "        for word in sentence.split('\\n'):\n",
    "            if word != '':\n",
    "                (surface, attr) = word.split('\\t')\n",
    "                attr = attr.split(',')\n",
    "                component_dict = {\n",
    "                    'surface': surface,\n",
    "                    'base': attr[6],\n",
    "                    'pos': attr[0],\n",
    "                    'pos1': attr[1]\n",
    "                }\n",
    "                morpheme_list.append(component_dict)\n",
    "        result_list.append(morpheme_list)\n",
    "    return result_list\n",
    "\n",
    "neko_morpheme = read_mecab(fname)\n",
    "print(neko_morpheme[:4])"
   ]
  },
  {
   "cell_type": "markdown",
   "metadata": {},
   "source": [
    "### 31. 動詞\n",
    "\n",
    "> 動詞の表層系をすべて抽出せよ.\n",
    "\n",
    "posが動詞のsurfaceを抽出する。とりあえず，動詞を抽出すれば良いだけなので一度文章ごとのリストを平坦化して処理した。\n",
    "出力はリストにしたが，重複した要素がいらないならsetにすれば良い。`set(verbose_list)`するだけ。"
   ]
  },
  {
   "cell_type": "code",
   "execution_count": 125,
   "metadata": {},
   "outputs": [
    {
     "name": "stdout",
     "output_type": "stream",
     "text": [
      "['生れ', 'つか', 'し', '泣い', 'し', 'いる', '始め', '見', '聞く', '捕え']\n"
     ]
    }
   ],
   "source": [
    "from itertools import chain\n",
    "\n",
    "def extract_verbose(target):\n",
    "    flatten_list = list(chain.from_iterable(target))\n",
    "    return [word['surface'] for word in flatten_list if word['pos'] == '動詞']\n",
    "    \n",
    "verbose_list = extract_verbose(neko_morpheme)\n",
    "print(verbose_list[:10])"
   ]
  },
  {
   "cell_type": "markdown",
   "metadata": {},
   "source": [
    "### 32. 動詞の原型\n",
    "\n",
    "> 動詞の原形をすべて抽出せよ"
   ]
  },
  {
   "cell_type": "code",
   "execution_count": 126,
   "metadata": {},
   "outputs": [
    {
     "name": "stdout",
     "output_type": "stream",
     "text": [
      "['生れる', 'つく', 'する', '泣く', 'する', 'いる', '始める', '見る', '聞く', '捕える']\n"
     ]
    }
   ],
   "source": [
    "def extract_verb_base(target):\n",
    "    flatten_list = list(chain.from_iterable(target))\n",
    "    return [word['base'] for word in flatten_list if word['pos'] == '動詞']\n",
    "\n",
    "verb_base_list = extract_verb_base(neko_morpheme)\n",
    "print(verb_base_list[:10])"
   ]
  },
  {
   "cell_type": "markdown",
   "metadata": {},
   "source": [
    "### 33. 「AのB」\n",
    "\n",
    "> 2つの名詞が「の」で連結されている名詞句を抽出せよ．\n",
    "\n",
    "文章ごとに処理しないといけない。連結されている名詞句を{A:B}という形の辞書としてリストに追加していく。"
   ]
  },
  {
   "cell_type": "code",
   "execution_count": 127,
   "metadata": {},
   "outputs": [
    {
     "name": "stdout",
     "output_type": "stream",
     "text": [
      "[{'彼': '掌'}, {'掌': '上'}, {'書生': '顔'}, {'はず': '顔'}, {'顔': '真中'}, {'穴': '中'}, {'書生': '掌'}, {'掌': '裏'}, {'何': '事'}, {'肝心': '母親'}]\n"
     ]
    }
   ],
   "source": [
    "def extract_connected_by_of(target):\n",
    "    result_list = []\n",
    "    for dict in target:\n",
    "        for i in range(1, len(dict)-1):\n",
    "            if dict[i-1]['pos'] == '名詞' and dict[i]['base'] == 'の' and dict[i+1]['pos'] == '名詞':\n",
    "                result_list.append({dict[i-1]['surface']: dict[i+1]['surface']})\n",
    "    return result_list\n",
    "\n",
    "a_of_b_list = extract_connected_by_of(neko_morpheme)\n",
    "print(a_of_b_list[:10])"
   ]
  },
  {
   "cell_type": "markdown",
   "metadata": {},
   "source": [
    "### 34. 名詞の連接 \n",
    "\n",
    "> 名詞の連接（連続して出現する名詞）を最長一致で抽出せよ．\n",
    "\n",
    "名詞が繋がっている限り，全ての名詞を結果に加えないといけない。"
   ]
  },
  {
   "cell_type": "code",
   "execution_count": 128,
   "metadata": {},
   "outputs": [
    {
     "name": "stdout",
     "output_type": "stream",
     "text": [
      "['人間', '中']\n",
      "['一番', '獰悪']\n",
      "['時', '妙']\n",
      "['一', '毛']\n",
      "['その後', '猫']\n",
      "['一', '度']\n",
      "['ぷうぷうと', '煙']\n",
      "['邸', '内']\n",
      "['三', '毛']\n",
      "['書生', '以外']\n"
     ]
    }
   ],
   "source": [
    "def extract_chain_noun(target_list):\n",
    "    result_list = []\n",
    "    temp_list = []\n",
    "    for d in target_list:\n",
    "        for word in d:  \n",
    "            if word['pos'] == '名詞':\n",
    "                temp_list.append(word['surface'])\n",
    "            elif len(temp_list) > 1 :\n",
    "                result_list.append(temp_list)\n",
    "                temp_list = []\n",
    "            else:\n",
    "                temp_list = []\n",
    "    return result_list\n",
    "\n",
    "chain_noun_list = extract_chain_noun(neko_morpheme)\n",
    "\n",
    "for i in chain_noun_list[:10]:\n",
    "    print(i)"
   ]
  },
  {
   "cell_type": "markdown",
   "metadata": {},
   "source": [
    "### 35. 単語の出現頻度\n",
    "\n",
    "> 文章中に出現する単語とその出現頻度を求め，出現頻度の高い順に並べよ\n",
    "\n",
    "Pythonの標準ライブラリの`collections`の`Counter`を用い，単語と出現回数のタプルが収納されたリストを取得する。"
   ]
  },
  {
   "cell_type": "code",
   "execution_count": 129,
   "metadata": {},
   "outputs": [
    {
     "name": "stdout",
     "output_type": "stream",
     "text": [
      "('の', '。', 'て', '、', 'は', 'に', 'を', 'と', 'が', 'た', 'で', '「', '」', 'も', 'ない', 'だ', 'し', 'から', 'ある', 'な')\n"
     ]
    }
   ],
   "source": [
    "#from itertools import chain\n",
    "from collections import Counter\n",
    "\n",
    "def extract_word_frequency(target):\n",
    "    flatten_list = list(chain.from_iterable(target))\n",
    "    word_list = [word['surface'] for word in flatten_list]\n",
    "    counted_list = Counter(word_list).most_common()\n",
    "    return counted_list\n",
    "\n",
    "word_counted_list = extract_word_frequency(neko_morpheme)\n",
    "word, counts = zip(*word_counted_list)\n",
    "print(word[:20])"
   ]
  },
  {
   "cell_type": "markdown",
   "metadata": {},
   "source": [
    "### 36. 頻度上位10語\n",
    "\n",
    "> 出現頻度が高い10語とその出現頻度をグラフ（例えば棒グラフなど）で表示せよ．\n",
    "\n"
   ]
  },
  {
   "cell_type": "code",
   "execution_count": 130,
   "metadata": {},
   "outputs": [
    {
     "data": {
      "image/png": "[encoded data removed]",
      "text/plain": [
       "<Figure size 864x576 with 1 Axes>"
      ]
     },
     "metadata": {
      "needs_background": "light"
     },
     "output_type": "display_data"
    }
   ],
   "source": [
    "# import matplotlib.pyplot as plt\n",
    "import japanize_matplotlib\n",
    "\n",
    "plt.figure(figsize=(12, 8))\n",
    "plt.barh(word[:10], counts[:10])\n",
    "plt.title('頻度上位10単語')\n",
    "plt.xlabel('出現回数')\n",
    "plt.ylabel('単語')\n",
    "plt.show()"
   ]
  },
  {
   "cell_type": "markdown",
   "metadata": {},
   "source": [
    "### 37.「猫」と共起頻度の高い上位10語\n",
    "\n",
    "> 「猫」とよく共起する（共起頻度が高い）10語とその出現頻度をグラフ（例えば棒グラフなど）で表示せよ．\n",
    "\n",
    "まず，共起頻度をどう定義するかを考えないといけないが，ここでは同じ文章中に出現している単語を抽出することと解釈して行った。\n",
    "\n",
    "* 猫を含む行を抽出→猫以外の単語をリストに収納する関数を定義。\n",
    "* リストから要素の出現頻度を算出する関数の定義。\n",
    "* プロット\n",
    "\n",
    "という3手順でおこなう。"
   ]
  },
  {
   "cell_type": "code",
   "execution_count": 131,
   "metadata": {},
   "outputs": [
    {
     "data": {
      "image/png": "[encoded data removed]",
      "text/plain": [
       "<Figure size 864x576 with 1 Axes>"
      ]
     },
     "metadata": {
      "needs_background": "light"
     },
     "output_type": "display_data"
    }
   ],
   "source": [
    "def extract_cooccurrence_list(target):\n",
    "    cooccurrence_list = []\n",
    "    for sentence in target:\n",
    "        # surfaceに猫が含まれていたらlistに追加する。\n",
    "        word_list = [word['surface'] for word in sentence]\n",
    "        if \"猫\" in word_list:\n",
    "            cooccurrence_list.extend([word for word in word_list if word != \"猫\"])\n",
    "    return cooccurrence_list\n",
    "\n",
    "def caluculate_word_frequence(target):\n",
    "    counted_list = Counter(target).most_common()\n",
    "    word, counts = zip(*counted_list)\n",
    "    return word, counts\n",
    "\n",
    "\n",
    "def main():\n",
    "    cat_frequence_list = extract_cooccurrence_list(neko_morpheme)\n",
    "    neko_word, neko_count = caluculate_word_frequence(cat_frequence_list)\n",
    "    plt.figure(figsize=(12, 8))\n",
    "    plt.barh(neko_word[:10], neko_count[:10])\n",
    "    plt.title('猫と共起頻度の高い上位10単語')\n",
    "    plt.xlabel('出現回数')\n",
    "    plt.ylabel('単語')\n",
    "    plt.show()\n",
    "\n",
    "if __name__ == '__main__':\n",
    "    main()"
   ]
  },
  {
   "cell_type": "markdown",
   "metadata": {},
   "source": [
    "### 38. ヒストグラム \n",
    "\n",
    "> 単語の出現頻度のヒストグラム（横軸に出現頻度，縦軸に出現頻度をとる単語の種類数を棒グラフで表したもの）を描け．\n",
    "\n",
    "35で算出したcountsリストを用いる。このように後から参照するならもう少しいい名前をつけるべき。\n",
    "今回は出現頻度100までをプロットした。"
   ]
  },
  {
   "cell_type": "code",
   "execution_count": 132,
   "metadata": {},
   "outputs": [
    {
     "data": {
      "image/png": "[encoded data removed]",
      "text/plain": [
       "<Figure size 864x576 with 1 Axes>"
      ]
     },
     "metadata": {
      "needs_background": "light"
     },
     "output_type": "display_data"
    }
   ],
   "source": [
    "plt.figure(figsize = (12,8))\n",
    "plt.hist(counts, bins=20, range=(1,100))\n",
    "plt.show()"
   ]
  },
  {
   "cell_type": "markdown",
   "metadata": {},
   "source": [
    "### 39.Zipfの法則\n",
    "\n",
    "> 単語の出現頻度順位を横軸，その出現頻度を縦軸として，両対数グラフをプロットせよ．\n",
    "\n",
    "35で取得したcountsリストは，順位順に並んでいる。"
   ]
  },
  {
   "cell_type": "code",
   "execution_count": 133,
   "metadata": {},
   "outputs": [
    {
     "data": {
      "image/png": "[encoded data removed]",
      "text/plain": [
       "<Figure size 864x576 with 1 Axes>"
      ]
     },
     "metadata": {
      "needs_background": "light"
     },
     "output_type": "display_data"
    }
   ],
   "source": [
    "# 出現順位のリストを作成\n",
    "rank_list = [i+1 for i in range(len(counts))]\n",
    "\n",
    "plt.figure(figsize = (12,8))\n",
    "plt.scatter(rank_list, counts)\n",
    "plt.xscale('log')\n",
    "plt.yscale('log')\n",
    "plt.grid(which='major',color='black')\n",
    "\n",
    "plt.show()"
   ]
  }
 ],
 "metadata": {
  "kernelspec": {
   "display_name": "Python 3",
   "language": "python",
   "name": "python3"
  },
  "language_info": {
   "codemirror_mode": {
    "name": "ipython",
    "version": 3
   },
   "file_extension": ".py",
   "mimetype": "text/x-python",
   "name": "python",
   "nbconvert_exporter": "python",
   "pygments_lexer": "ipython3",
   "version": "3.6.9"
  }
 },
 "nbformat": 4,
 "nbformat_minor": 2
}
